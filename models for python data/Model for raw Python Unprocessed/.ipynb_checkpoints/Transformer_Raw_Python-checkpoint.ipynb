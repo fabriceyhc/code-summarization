{
 "cells": [
  {
   "cell_type": "markdown",
   "metadata": {},
   "source": [
    "## Transformer Model for code written in Python\n",
    "\n",
    "This notebook is intended to be run on a unix server with a single GPU processor and pytorch preconfigured to run on the machine."
   ]
  },
  {
   "cell_type": "markdown",
   "metadata": {},
   "source": [
    "The following code is written for raw Python input data: \n",
    "\n",
    "Input Features:\n",
    "- Method bodies <br/>\n",
    "- Method declaration\n",
    "\n",
    "Output: Natural language short summaries of codes\n",
    "\n",
    "#We do not strip off punctuation to measure their effect on the summaries"
   ]
  },
  {
   "cell_type": "code",
   "execution_count": null,
   "metadata": {},
   "outputs": [],
   "source": [
    "# Step 1: change directory so that OpenNMT-py actually works\n",
    "%cd OpenNMT-py\n",
    "\n",
    "# Step 2: install some additional needed packages for OpenNMT\n",
    "!pip3 install -r requirements.txt\n",
    "\n",
    "#Step 3: install torch\n",
    "!pip3 install torch"
   ]
  },
  {
   "cell_type": "code",
   "execution_count": null,
   "metadata": {},
   "outputs": [],
   "source": [
    "#Check GPU availability\n",
    "import torch\n",
    "torch.cuda.get_device_name(0)"
   ]
  },
  {
   "cell_type": "code",
   "execution_count": null,
   "metadata": {},
   "outputs": [],
   "source": [
    "# Preprocess the data as needed by Opennmt\n",
    "!python3 preprocess.py \\\n",
    "-train_src data/src_train.txt \\\n",
    "-train_tgt data/tgt_train.txt \\\n",
    "-valid_src data/src_val.txt \\\n",
    "-valid_tgt data/tgt_val.txt \\\n",
    "-save_data data/prepped"
   ]
  },
  {
   "cell_type": "code",
   "execution_count": null,
   "metadata": {},
   "outputs": [],
   "source": [
    "#Train the model\n",
    "!python3 train.py \\\n",
    "    -data data/prepped \\\n",
    "    -save_model model/python_summ06022019 \\\n",
    "    -keep_checkpoint 2 \\\n",
    "    -layers 6 \\\n",
    "    -rnn_size 512 \\\n",
    "    -word_vec_size 512 \\\n",
    "    -transformer_ff 2048 \\\n",
    "    -heads 8 \\\n",
    "    -encoder_type transformer \\\n",
    "    -decoder_type transformer \\\n",
    "    -position_encoding \\\n",
    "    -max_generator_batches 0 \\\n",
    "    -dropout 0.1 \\\n",
    "    -batch_size 40 \\\n",
    "    -batch_type tokens \\\n",
    "    -normalization tokens \\\n",
    "    -accum_count 2 \\\n",
    "    -optim adam \\\n",
    "    -adam_beta2 0.998 \\\n",
    "    -decay_method noam \\\n",
    "    -warmup_steps 8000 \\\n",
    "    -learning_rate 0.2 \\\n",
    "    -max_grad_norm 0 \\\n",
    "    -param_init 0  \\\n",
    "    -param_init_glorot \\\n",
    "    -label_smoothing 0.1 \\\n",
    "    -valid_steps 100000 \\\n",
    "    -save_checkpoint_steps 1000 \\\n",
    "    -world_size 1 \\\n",
    "    -gpu_ranks 0"
   ]
  },
  {
   "cell_type": "code",
   "execution_count": null,
   "metadata": {},
   "outputs": [],
   "source": [
    "python3 translate.py \\\n",
    "    -model model/python_summ06022019_step_99000.pt \\\n",
    "    -src data/src_test.txt \\\n",
    "    -tgt data/tgt_test.txt \\\n",
    "    -output pred.txt \\\n",
    "    -report_time "
   ]
  }
 ],
 "metadata": {
  "kernelspec": {
   "display_name": "Python 3",
   "language": "python",
   "name": "python3"
  },
  "language_info": {
   "codemirror_mode": {
    "name": "ipython",
    "version": 3
   },
   "file_extension": ".py",
   "mimetype": "text/x-python",
   "name": "python",
   "nbconvert_exporter": "python",
   "pygments_lexer": "ipython3",
   "version": "3.7.2"
  }
 },
 "nbformat": 4,
 "nbformat_minor": 2
}
