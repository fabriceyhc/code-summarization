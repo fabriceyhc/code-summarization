{
 "cells": [
  {
   "cell_type": "code",
   "execution_count": 10,
   "metadata": {
    "collapsed": true
   },
   "outputs": [],
   "source": [
    "FILE_IN= 'updated_parellel_decl+bodies'  #the file containing the functions that we want to parse into AST\n",
    "FILE_OUT_AST= 'parallel_AST'     #the file to write the AST\n",
    "FILE_OUT_AST_JSON= 'parallel_AST_JSON' #the file to write the JSON format of the AST"
   ]
  },
  {
   "cell_type": "code",
   "execution_count": 11,
   "metadata": {},
   "outputs": [],
   "source": [
    "import ast\n",
    "from ast2json import ast2json\n",
    "import json\n",
    "\n",
    "with open(FILE_IN) as file_in:\n",
    "    lines = file_in.readlines()\n",
    "    for line in lines:\n",
    "        line=line.encode('utf-8')\n",
    "\n",
    "        #replace the DCNL & DCSP symbols\n",
    "        #need to deal with different indentations& spacings. The authors used DCSP for both '\\t' & whitespace\n",
    "\n",
    "        line=line.replace(' DCNL ',' \\n')\n",
    "        line=line.replace(' DCSP ',' \\t')\n",
    "        line=line.replace('DCSP ',' \\t')\n",
    "\n",
    "        #create temporary python file for every line (function) in input file\n",
    "\n",
    "        with open('temp.py','w') as file_py:  \n",
    "            file_py.write(line)\n",
    "            \n",
    "        #generate ASTs\n",
    "        tree = ast.parse(open('temp.py','r').read())\n",
    "        temp_ast=ast.dump(tree)\n",
    "        \n",
    "        with open(FILE_OUT_AST, 'a') as file_ast:\n",
    "            file_ast.write(temp_ast)\n",
    "        \n",
    "        #----NOT working for all functions---#\n",
    "        #Some functions have encoding issues for generating the json dumps\n",
    "        \n",
    "        #generate JSON format from ASTs\n",
    "        #jst = ast2json(tree)\n",
    "        #temp_jst=json.dumps(jst, indent=4)\n",
    "        \n",
    "        #with open(FILE_OUT_AST_JSON, 'a') as file_jst:\n",
    "            #file_jst.write(temp_jst)\n",
    "        \n",
    "        "
   ]
  },
  {
   "cell_type": "code",
   "execution_count": null,
   "metadata": {
    "collapsed": true
   },
   "outputs": [],
   "source": []
  }
 ],
 "metadata": {
  "kernelspec": {
   "display_name": "Python 3",
   "language": "python",
   "name": "python3"
  },
  "language_info": {
   "codemirror_mode": {
    "name": "ipython",
    "version": 3
   },
   "file_extension": ".py",
   "mimetype": "text/x-python",
   "name": "python",
   "nbconvert_exporter": "python",
   "pygments_lexer": "ipython3",
   "version": "3.7.3"
  }
 },
 "nbformat": 4,
 "nbformat_minor": 2
}
