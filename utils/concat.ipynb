{
 "cells": [
  {
   "cell_type": "code",
   "execution_count": 11,
   "metadata": {
    "collapsed": true
   },
   "outputs": [],
   "source": [
    "FILE_BODY='parallel_methods_bodies'  #set this to directory of file containing method bodies\n",
    "FILE_DECL='parallel_methods_decl'    #set this to directory of file containing method declarations\n",
    "FILE_NEW='parellel_methods_decl+bodies' #set this to directory of new decl+body file to be created"
   ]
  },
  {
   "cell_type": "code",
   "execution_count": 12,
   "metadata": {
    "collapsed": true
   },
   "outputs": [],
   "source": [
    "with open(FILE_DECL) as file_decl:\n",
    "    count_lines=len(file_decl.readlines()) #get the line count of the files"
   ]
  },
  {
   "cell_type": "code",
   "execution_count": 13,
   "metadata": {
    "collapsed": true
   },
   "outputs": [],
   "source": [
    "# Read one line at a time from both files & concatenate \n",
    "\n",
    "with open(FILE_DECL) as file_decl:\n",
    "    with open(FILE_BODY) as file_body:\n",
    "        with open(FILE_NEW, 'a') as file_new:\n",
    "            for x in range(count_lines):\n",
    "                decl = str (file_decl.readline())\n",
    "                body = file_body.readline()\n",
    "                file_new.write(decl[:-1] +' DCNL '+ body)\n",
    "            "
   ]
  },
  {
   "cell_type": "code",
   "execution_count": null,
   "metadata": {
    "collapsed": true
   },
   "outputs": [],
   "source": []
  }
 ],
 "metadata": {
  "kernelspec": {
   "display_name": "Python 2",
   "language": "python",
   "name": "python2"
  },
  "language_info": {
   "codemirror_mode": {
    "name": "ipython",
    "version": 2
   },
   "file_extension": ".py",
   "mimetype": "text/x-python",
   "name": "python",
   "nbconvert_exporter": "python",
   "pygments_lexer": "ipython2",
   "version": "2.7.14"
  }
 },
 "nbformat": 4,
 "nbformat_minor": 2
}
