{
 "cells": [
  {
   "cell_type": "code",
   "execution_count": 1,
   "metadata": {},
   "outputs": [],
   "source": [
    "from os import listdir\n",
    "import string, re\n",
    "import numpy as np"
   ]
  },
  {
   "cell_type": "code",
   "execution_count": 2,
   "metadata": {},
   "outputs": [],
   "source": [
    "def load_doc(filename):\n",
    "    f = open(filename,  encoding=\"utf8\")\n",
    "    lines = f.readlines()\n",
    "    return lines"
   ]
  },
  {
   "cell_type": "code",
   "execution_count": 3,
   "metadata": {},
   "outputs": [],
   "source": [
    "#The directory where the dataset is stored\n",
    "directory = ''"
   ]
  },
  {
   "cell_type": "code",
   "execution_count": 4,
   "metadata": {},
   "outputs": [],
   "source": [
    "#Read the dataset into following lists:\n",
    "functionBody_list = load_doc(directory + \"updated_parellel_bodies\")\n",
    "\n",
    "decl_list = load_doc(directory + \"updated_parellel_decl\")\n",
    "\n",
    "desc_list = load_doc(directory + \"updated_parellel_desc\")"
   ]
  },
  {
   "cell_type": "code",
   "execution_count": 5,
   "metadata": {},
   "outputs": [],
   "source": [
    "def clean_data(lines):\n",
    "    cleaned = []\n",
    "    for line in lines:\n",
    "        clean = re.sub(r\"\"\"\n",
    "               [,.;@#?!&$()='\\\\_`:>\"%/{}*]+  # Accept one or more copies of punctuation\n",
    "               \\ *           # plus zero or more copies of a space,\n",
    "               \"\"\",\n",
    "               \" \",          # and replace it with a single space\n",
    "               line, flags=re.VERBOSE)\n",
    "        #Manually handle cases not accepted by sub\n",
    "        clean = clean.replace(\"[\", \"\")\n",
    "        clean = clean.replace(\"]\", \"\")\n",
    "        clean = clean.replace(\"-\", \"\")\n",
    "        # tokenize on white space\n",
    "        line = clean.split()\n",
    "        # convert to lower case\n",
    "        line = [word.lower() for word in line]\n",
    "        # store as string\n",
    "        cleaned.append(' '.join(line))\n",
    "    # remove empty strings\n",
    "    return cleaned"
   ]
  },
  {
   "cell_type": "code",
   "execution_count": 6,
   "metadata": {},
   "outputs": [
    {
     "name": "stdout",
     "output_type": "stream",
     "text": [
      "Function Body cleaned:  72000\n",
      "Declarations cleaned:  72000\n",
      "Descriptions cleaned:  72000\n"
     ]
    }
   ],
   "source": [
    "clean_functionBody_list = clean_data(functionBody_list)\n",
    "clean_decl_list = clean_data(decl_list)\n",
    "clean_desc_list = clean_data(desc_list)\n",
    "\n",
    "print(\"Function Body cleaned: \", len(clean_functionBody_list))\n",
    "print(\"Declarations cleaned: \", len(clean_decl_list))\n",
    "print(\"Descriptions cleaned: \", len(clean_desc_list))"
   ]
  },
  {
   "cell_type": "code",
   "execution_count": 7,
   "metadata": {},
   "outputs": [
    {
     "name": "stdout",
     "output_type": "stream",
     "text": [
      " DCSP import magics, marshal DCNL DCSP fp = open(filename, 'rb') DCNL DCSP magic = fp.read(4) DCNL DCSP try: DCNL DCSP  DCSP version = magics.versions[magic] DCNL DCSP except KeyError: DCNL DCSP  DCSP raise ImportError, ('Unknown DCSP magic DCSP number DCSP %s DCSP in DCSP %s' % ((ord(magic[0]) + (256 * ord(magic[1]))), filename)) DCNL DCSP if (version != '2.7'): DCNL DCSP  DCSP raise ImportError, ('This DCSP is DCSP a DCSP Python DCSP %s DCSP file! DCSP Only DCSP Python DCSP 2.7 DCSP files DCSP are DCSP supported.' % version) DCNL DCSP fp.read(4) DCNL DCSP co = marshal.load(fp) DCNL DCSP fp.close() DCNL DCSP return (version, co)\n",
      "\n",
      "dcsp import magics marshal dcnl dcsp fp open filename rb dcnl dcsp magic fp read 4 dcnl dcsp try dcnl dcsp dcsp version magics versionsmagic dcnl dcsp except keyerror dcnl dcsp dcsp raise importerror unknown dcsp magic dcsp number dcsp s dcsp in dcsp s ord magic0 + 256 ord magic1 filename dcnl dcsp if version 2 7 dcnl dcsp dcsp raise importerror this dcsp is dcsp a dcsp python dcsp s dcsp file dcsp only dcsp python dcsp 2 7 dcsp files dcsp are dcsp supported version dcnl dcsp fp read 4 dcnl dcsp co marshal load fp dcnl dcsp fp close dcnl dcsp return version co\n"
     ]
    }
   ],
   "source": [
    "#Comparison of original and processed files\n",
    "print(functionBody_list[1])\n",
    "print(clean_functionBody_list[1])"
   ]
  },
  {
   "cell_type": "code",
   "execution_count": 8,
   "metadata": {},
   "outputs": [],
   "source": [
    "#Write processed data to respective files\n",
    "#Concatenate declaration and Function Body -> Input\n",
    "#Description -> Output/Label\n",
    "\n",
    "file1 = open(\"input_train.txt\", \"w\", encoding=\"utf8\")\n",
    "file2 = open(\"input_dev.txt\", \"w\", encoding=\"utf8\")\n",
    "file3 = open(\"input_test.txt\", \"w\", encoding=\"utf8\")\n",
    "for index in range(len(clean_functionBody_list)):\n",
    "    if index < 68000:\n",
    "        file1.write(str(clean_decl_list[index]) + \" \" + str(clean_functionBody_list[index]) + \"\\n\")\n",
    "    elif index <70000:\n",
    "        file2.write(str(clean_decl_list[index]) + \" \" + str(clean_functionBody_list[index]) + \"\\n\")\n",
    "    else:\n",
    "        file3.write(str(clean_decl_list[index]) + \" \" + str(clean_functionBody_list[index]) + \"\\n\")\n",
    "file1.close()\n",
    "file2.close()\n",
    "file3.close()\n",
    "\n",
    "file1 = open(\"summary_train.txt\", \"w\", encoding=\"utf8\")\n",
    "file2 = open(\"summary_dev.txt\", \"w\", encoding=\"utf8\")\n",
    "file3 = open(\"summary_test.txt\", \"w\", encoding=\"utf8\")\n",
    "for index in range(len(clean_desc_list)):\n",
    "    if index < 68000:\n",
    "        file1.write(str(clean_desc_list[index]) + \"\\n\")\n",
    "    elif index <70000:\n",
    "        file2.write(str(clean_desc_list[index]) + \"\\n\")\n",
    "    else:\n",
    "        file3.write(str(clean_desc_list[index]) + \"\\n\")\n",
    "file1.close()\n",
    "file2.close()\n",
    "file3.close()"
   ]
  }
 ],
 "metadata": {
  "kernelspec": {
   "display_name": "Python 3",
   "language": "python",
   "name": "python3"
  },
  "language_info": {
   "codemirror_mode": {
    "name": "ipython",
    "version": 3
   },
   "file_extension": ".py",
   "mimetype": "text/x-python",
   "name": "python",
   "nbconvert_exporter": "python",
   "pygments_lexer": "ipython3",
   "version": "3.6.8"
  }
 },
 "nbformat": 4,
 "nbformat_minor": 2
}
