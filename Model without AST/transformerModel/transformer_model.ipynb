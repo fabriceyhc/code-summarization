{
  "nbformat": 4,
  "nbformat_minor": 0,
  "metadata": {
    "colab": {
      "name": "transformer_model.ipynb",
      "version": "0.3.2",
      "provenance": []
    },
    "kernelspec": {
      "name": "python3",
      "display_name": "Python 3"
    }
  },
  "cells": [
    {
      "cell_type": "code",
      "metadata": {
        "id": "ovPK1U7XdWCM",
        "colab_type": "code",
        "colab": {}
      },
      "source": [
        "%cd OpenNMT-py\n",
        "\n",
        "!pip install -r requirements.txt"
      ],
      "execution_count": 0,
      "outputs": []
    },
    {
      "cell_type": "markdown",
      "metadata": {
        "id": "HABPHvQde4FP",
        "colab_type": "text"
      },
      "source": [
        "Note - Clone the OpenNMT repository available [here](https://github.com/OpenNMT/OpenNMT-py) before the command pip install  requirements.txt"
      ]
    },
    {
      "cell_type": "code",
      "metadata": {
        "id": "p4GdCRYkdhPg",
        "colab_type": "code",
        "colab": {}
      },
      "source": [
        "import torch\n",
        "torch.cuda.get_device_name(0)"
      ],
      "execution_count": 0,
      "outputs": []
    },
    {
      "cell_type": "markdown",
      "metadata": {
        "id": "0d0pNy4IdlPL",
        "colab_type": "text"
      },
      "source": [
        "# Preprocess"
      ]
    },
    {
      "cell_type": "markdown",
      "metadata": {
        "id": "kKBLtJ07drXZ",
        "colab_type": "text"
      },
      "source": [
        "(run on Google Cloud Instance)"
      ]
    },
    {
      "cell_type": "code",
      "metadata": {
        "id": "bodaPBR1djZr",
        "colab_type": "code",
        "colab": {}
      },
      "source": [
        "nohup python preprocess.py \\\n",
        "    -train_src data/input_train.txt \\\n",
        "    -train_tgt data/summary_train.txt \\\n",
        "    -valid_src data/input_dev.txt \\\n",
        "    -valid_tgt data/summary_dev.txt \\\n",
        "    -shard_size 100000 \\\n",
        "    -save_data data/Experiment3_06082019 &"
      ],
      "execution_count": 0,
      "outputs": []
    },
    {
      "cell_type": "markdown",
      "metadata": {
        "id": "yamCjmykdx3b",
        "colab_type": "text"
      },
      "source": [
        "# Train"
      ]
    },
    {
      "cell_type": "code",
      "metadata": {
        "id": "HMnflAied3Cr",
        "colab_type": "code",
        "colab": {}
      },
      "source": [
        "nohup python train.py \\\n",
        "    -data data/Experiment3_06082019 \\\n",
        "    -save_model model/Experiment3_06082019 \\\n",
        "    -keep_checkpoint 1 \\\n",
        "    -layers 6 \\\n",
        "    -rnn_size 512 \\\n",
        "    -word_vec_size 512 \\\n",
        "    -transformer_ff 2048 \\\n",
        "    -heads 8 \\\n",
        "    -encoder_type transformer \\\n",
        "    -decoder_type transformer \\\n",
        "    -position_encoding \\\n",
        "    -train_steps 200000  \\\n",
        "    -max_generator_batches 0 \\\n",
        "    -dropout 0.1 \\\n",
        "    -batch_size 40 \\\n",
        "    -batch_type tokens \\\n",
        "    -normalization tokens \\\n",
        "    -accum_count 2 \\\n",
        "    -optim adam \\\n",
        "    -adam_beta2 0.998 \\\n",
        "    -decay_method noam \\\n",
        "    -warmup_steps 8000 \\\n",
        "    -learning_rate 0.2 \\\n",
        "    -max_grad_norm 0 \\\n",
        "    -param_init 0  \\\n",
        "    -param_init_glorot \\\n",
        "    -label_smoothing 0.1 \\\n",
        "    -valid_steps 50000 \\\n",
        "    -save_checkpoint_steps 10000 \\\n",
        "    -world_size 1 \\\n",
        "    -gpu_ranks 0 &"
      ],
      "execution_count": 0,
      "outputs": []
    },
    {
      "cell_type": "markdown",
      "metadata": {
        "id": "eKeevl9fd0nQ",
        "colab_type": "text"
      },
      "source": [
        "# Translate"
      ]
    },
    {
      "cell_type": "code",
      "metadata": {
        "id": "igsxduhld8Kl",
        "colab_type": "code",
        "colab": {}
      },
      "source": [
        "nohup python translate.py \\\n",
        "    -model model/Experiment3_06082019_step_70000.pt \\\n",
        "    -src data/input_test.txt \\\n",
        "    -tgt data/summary_test.txt \\\n",
        "    -output Exeriment3_06082019_output.txt \\\n",
        "    -report_time \\\n",
        "    -gpu 0 &"
      ],
      "execution_count": 0,
      "outputs": []
    }
  ]
}